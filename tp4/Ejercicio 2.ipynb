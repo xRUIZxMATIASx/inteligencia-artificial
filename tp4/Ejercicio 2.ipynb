{
 "cells": [
  {
   "cell_type": "markdown",
   "metadata": {},
   "source": [
    "# El problema de la mochila\n",
    "\n",
    "Se tiene una mochila y un conjunto de artículos con diferente peso y valor. Se intenta determinar que artículos se pueden colocar adentro de la mochila de manera que no se sobrepase el límite de peso de la mochila maximizando el valor total. \n",
    "\n",
    "## Primera parte\n",
    "\n",
    "Resolver el problema utilizando un método de fuerza bruta para los siguientes artículos y un límite de 15kg:\n",
    "\n",
    "<table style=\"font-size:16px\">\n",
    "    <tr>\n",
    "        <th>Item</th><td>Valor</td><td>Peso</td>\n",
    "    </tr>\n",
    "    <tr>\n",
    "        <th>A</th><td>4</td><td>12</td>\n",
    "    </tr>\n",
    "    <tr>\n",
    "        <th>B</th><td>2</td><td>2</td>\n",
    "    </tr>\n",
    "    <tr>\n",
    "        <th>C</th><td>10</td><td>4</td>\n",
    "    </tr>\n",
    "    <tr>\n",
    "        <th>D</th><td>1</td><td>1</td>\n",
    "    </tr>\n",
    "</table>\n",
    "\n",
    "Mostrar el resultado para todos los casos"
   ]
  },
  {
   "cell_type": "code",
   "execution_count": 35,
   "metadata": {},
   "outputs": [
    {
     "name": "stdout",
     "output_type": "stream",
     "text": [
      "Peso 12 Valor 4\n",
      "Peso 2 Valor 2\n",
      "Peso 4 Valor 10\n",
      "Peso 1 Valor 1\n",
      "Peso 14 Valor 6\n",
      "Peso 16 Valor 14\n",
      "Peso 13 Valor 5\n",
      "Peso 6 Valor 12\n",
      "Peso 3 Valor 3\n",
      "Peso 5 Valor 11\n",
      "Peso 18 Valor 16\n",
      "Peso 15 Valor 7\n",
      "Peso 17 Valor 15\n",
      "Peso 7 Valor 13\n",
      "Peso 19 Valor 17\n",
      "((2, 2), (10, 4), (1, 1))\n",
      "13\n"
     ]
    }
   ],
   "source": [
    "import itertools\n",
    "\n",
    "items = [(4, 12), (2, 2), (10, 4), (1, 1)]\n",
    "max_value = 0\n",
    "combinations = []\n",
    "\n",
    "for i in range(1, 5):\n",
    "    combinations.append([i for i in itertools.combinations(items, i)])\n",
    "\n",
    "for v in combinations:\n",
    "    for j in v:\n",
    "        total_value = 0\n",
    "        total_weigth = 0\n",
    "        for i in j:\n",
    "            value, weight = i\n",
    "            total_value += value\n",
    "            total_weigth += weight\n",
    "        if total_weigth <= 15 and max_value < total_value:\n",
    "            choiced_item = j\n",
    "            max_value = total_value\n",
    "        print(f\"Peso {total_weigth} Valor {total_value}\")\n",
    "print(choiced_item)\n",
    "print(max_value)"
   ]
  },
  {
   "cell_type": "markdown",
   "metadata": {},
   "source": [
    "# Segunda parte\n",
    "\n",
    "Resolver el problema agregando heurística para los siguientes artículos y un límite de 30kg:\n",
    "\n",
    "<table style=\"font-size:16px\">\n",
    "    <tr>\n",
    "        <th>Item</th><td>Valor</td><td>Peso</td>\n",
    "    </tr>\n",
    "    <tr>\n",
    "        <th>A</th><td>4</td><td>12</td>\n",
    "    </tr>\n",
    "    <tr>\n",
    "        <th>B</th><td>2</td><td>2</td>\n",
    "    </tr>\n",
    "    <tr>\n",
    "        <th>C</th><td>10</td><td>4</td>\n",
    "    </tr>\n",
    "    <tr>\n",
    "        <th>D</th><td>1</td><td>1</td>\n",
    "    </tr>\n",
    "    <tr>\n",
    "        <th>E</th><td>5</td><td>15</td>\n",
    "    </tr>\n",
    "    <tr>\n",
    "        <th>F</th><td>3</td><td>2</td>\n",
    "    </tr>\n",
    "    <tr>\n",
    "        <th>G</th><td>14</td><td>7</td>\n",
    "    </tr>\n",
    "    <tr>\n",
    "        <th>H</th><td>4</td><td>10</td>\n",
    "    </tr>\n",
    "</table>\n",
    "\n",
    "Responder:\n",
    "\n",
    "- ¿Qué heurística se utilizó? \n",
    "\n",
    "Se utilizo la relacion entre clave y valor, se seleccionan los elementos que maximizan esa relacion.\n"
   ]
  },
  {
   "cell_type": "code",
   "execution_count": 38,
   "metadata": {},
   "outputs": [
    {
     "name": "stdout",
     "output_type": "stream",
     "text": [
      "[(10, 4), (14, 7), (3, 2), (1, 1), (2, 2), (4, 10), (4, 12)]\n",
      "[(4, 12), (5, 15)]\n",
      "[0.3333333333333333, 0.3333333333333333]\n",
      "26\n",
      "[(10, 4), (14, 7), (3, 2), (1, 1), (2, 2), (4, 10)]\n"
     ]
    }
   ],
   "source": [
    "data = [(4, 12), (2, 2), (10, 4), (1, 1), (5, 15), (3, 2), (14, 7), (4, 10)]\n",
    "data.sort()\n",
    "metric = []\n",
    "for k, v in data:\n",
    "    metric.append(float(k/v))\n",
    "\n",
    "history = []\n",
    "weight = 0\n",
    "exit = False\n",
    "\n",
    "history_extract = []\n",
    "while True:\n",
    "    max_metric = max(metric, key=float)\n",
    "    metric_index = metric.index(max_metric)\n",
    "    history.append(data[metric_index])\n",
    "    value, w = history[-1]\n",
    "    if weight+w > 30:\n",
    "        break\n",
    "    weight += w\n",
    "    history_extract.append(history[-1])\n",
    "    data.remove((value, w))\n",
    "    metric.remove(max_metric)\n",
    "\n",
    "print(history)\n",
    "print(data)\n",
    "print(metric)\n",
    "print(weight)\n",
    "print(history_extract)"
   ]
  }
 ],
 "metadata": {
  "kernelspec": {
   "display_name": "Python 3",
   "language": "python",
   "name": "python3"
  },
  "language_info": {
   "codemirror_mode": {
    "name": "ipython",
    "version": 3
   },
   "file_extension": ".py",
   "mimetype": "text/x-python",
   "name": "python",
   "nbconvert_exporter": "python",
   "pygments_lexer": "ipython3",
   "version": "3.7.4"
  }
 },
 "nbformat": 4,
 "nbformat_minor": 4
}
