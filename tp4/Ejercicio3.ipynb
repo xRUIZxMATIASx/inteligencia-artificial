{
 "cells": [
  {
   "cell_type": "markdown",
   "metadata": {},
   "source": [
    "# Grilla de colores\n",
    "\n",
    "Se tiene una grilla de cuadrados de 9×9, cada uno comienza pintado aleatoriamente de rojo o azul. \n",
    "\n",
    "<img src=\"grilla.jpg\" width=\"200\">\n",
    "Se quiere pintar algunos cuadrados de manera que si se divide la grilla total en sub-grillas de 3x3 cada una de estas sub-grillas contenga cuadrados del mismo color pero el color de cada sub-grilla sea diferente que el de las subgrillas adyacentes.\n",
    "<table>\n",
    "    <tr>\n",
    "        <td><img src=\"grilla-solucion-1.jpg\" width=\"200\"></td>\n",
    "        <td><img src=\"grilla-solucion-2.jpg\" width=\"200\"></td>\n",
    "    </tr>\n",
    "</table>\n",
    "\n",
    "Resolver el problema de manera que no sea necesario pintar un cuadrado más de una vez y se pinte la cantidad mínima de cuadrados\n",
    "\n",
    "\n"
   ]
  },
  {
   "cell_type": "code",
   "execution_count": 1,
   "metadata": {},
   "outputs": [
    {
     "name": "stdout",
     "output_type": "stream",
     "text": [
      "[[0 0 0 1 1 1 0 0 0]\n",
      " [0 0 0 1 1 1 0 0 0]\n",
      " [0 0 0 1 1 1 0 0 0]\n",
      " [1 1 1 0 0 0 1 1 1]\n",
      " [1 1 1 0 0 0 1 1 1]\n",
      " [1 1 1 0 0 0 1 1 1]\n",
      " [0 0 0 1 1 1 0 0 0]\n",
      " [0 0 0 1 1 1 0 0 0]\n",
      " [0 0 0 1 1 1 0 0 0]]\n",
      "[[1 1 1 0 0 0 1 1 1]\n",
      " [1 1 1 0 0 0 1 1 1]\n",
      " [1 1 1 0 0 0 1 1 1]\n",
      " [0 0 0 1 1 1 0 0 0]\n",
      " [0 0 0 1 1 1 0 0 0]\n",
      " [0 0 0 1 1 1 0 0 0]\n",
      " [1 1 1 0 0 0 1 1 1]\n",
      " [1 1 1 0 0 0 1 1 1]\n",
      " [1 1 1 0 0 0 1 1 1]]\n"
     ]
    }
   ],
   "source": [
    "import numpy as np\n",
    "solution1 = np.array([\n",
    "[0,0,0,1,1,1,0,0,0],[0,0,0,1,1,1,0,0,0],[0,0,0,1,1,1,0,0,0],\n",
    "[1,1,1,0,0,0,1,1,1],[1,1,1,0,0,0,1,1,1],[1,1,1,0,0,0,1,1,1],\n",
    "[0,0,0,1,1,1,0,0,0],[0,0,0,1,1,1,0,0,0],[0,0,0,1,1,1,0,0,0], \n",
    "])\n",
    "print(solution1)\n",
    "solution2 = np.array([\n",
    "[1,1,1,0,0,0,1,1,1],[1,1,1,0,0,0,1,1,1],[1,1,1,0,0,0,1,1,1],\n",
    "[0,0,0,1,1,1,0,0,0],[0,0,0,1,1,1,0,0,0],[0,0,0,1,1,1,0,0,0],\n",
    "[1,1,1,0,0,0,1,1,1],[1,1,1,0,0,0,1,1,1],[1,1,1,0,0,0,1,1,1],\n",
    "])\n",
    "print(solution2)"
   ]
  },
  {
   "cell_type": "code",
   "execution_count": 2,
   "metadata": {},
   "outputs": [
    {
     "name": "stdout",
     "output_type": "stream",
     "text": [
      "[[0 0 0 0 1 0 1 0 0]\n",
      " [0 1 0 0 0 1 1 1 0]\n",
      " [0 0 1 1 1 0 1 0 1]\n",
      " [1 0 1 0 1 1 1 1 0]\n",
      " [1 1 0 1 0 0 0 0 1]\n",
      " [1 0 0 0 1 1 0 1 1]\n",
      " [0 0 1 0 0 1 0 0 0]\n",
      " [1 0 0 1 1 0 1 0 0]\n",
      " [0 0 0 0 0 1 0 0 0]]\n"
     ]
    }
   ],
   "source": [
    "grilla = np.random.randint(low=0,high=2,size=(9,9))\n",
    "print(grilla)"
   ]
  },
  {
   "cell_type": "code",
   "execution_count": 3,
   "metadata": {},
   "outputs": [
    {
     "name": "stdout",
     "output_type": "stream",
     "text": [
      "Cantidad de cuadros pintados: 33\n",
      "[[0 0 0 1 1 1 0 0 0]\n",
      " [0 0 0 1 1 1 0 0 0]\n",
      " [0 0 0 1 1 1 0 0 0]\n",
      " [1 1 1 0 0 0 1 1 1]\n",
      " [1 1 1 0 0 0 1 1 1]\n",
      " [1 1 1 0 0 0 1 1 1]\n",
      " [0 0 0 1 1 1 0 0 0]\n",
      " [0 0 0 1 1 1 0 0 0]\n",
      " [0 0 0 1 1 1 0 0 0]]\n",
      "Cantidad de cuadros pintados: 81\n",
      "[[1 1 1 0 0 0 1 1 1]\n",
      " [1 1 1 0 0 0 1 1 1]\n",
      " [1 1 1 0 0 0 1 1 1]\n",
      " [0 0 0 1 1 1 0 0 0]\n",
      " [0 0 0 1 1 1 0 0 0]\n",
      " [0 0 0 1 1 1 0 0 0]\n",
      " [1 1 1 0 0 0 1 1 1]\n",
      " [1 1 1 0 0 0 1 1 1]\n",
      " [1 1 1 0 0 0 1 1 1]]\n"
     ]
    }
   ],
   "source": [
    "pinted = 0\n",
    "for x in range(0, grilla.shape[0]):\n",
    "    for y in range(0, grilla.shape[1]):\n",
    "        if grilla[x][y] != solution1[x][y]:\n",
    "             grilla[x][y] = solution1[x][y]\n",
    "             pinted += 1\n",
    "print(\"Cantidad de cuadros pintados: \" + str(pinted))\n",
    "print(grilla)\n",
    "\n",
    "pinted = 0\n",
    "for x in range(0, grilla.shape[0]):\n",
    "    for y in range(0, grilla.shape[1]):\n",
    "        if grilla[x][y] != solution2[x][y]:\n",
    "             grilla[x][y] = solution2[x][y]\n",
    "             pinted += 1\n",
    "print(\"Cantidad de cuadros pintados: \" + str(pinted))\n",
    "print(grilla)"
   ]
  }
 ],
 "metadata": {
  "kernelspec": {
   "display_name": "Python 3",
   "language": "python",
   "name": "python3"
  },
  "language_info": {
   "codemirror_mode": {
    "name": "ipython",
    "version": 3
   },
   "file_extension": ".py",
   "mimetype": "text/x-python",
   "name": "python",
   "nbconvert_exporter": "python",
   "pygments_lexer": "ipython3",
   "version": "3.7.4"
  }
 },
 "nbformat": 4,
 "nbformat_minor": 4
}
