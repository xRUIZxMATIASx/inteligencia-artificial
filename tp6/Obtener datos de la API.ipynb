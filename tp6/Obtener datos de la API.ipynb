{
 "cells": [
  {
   "cell_type": "markdown",
   "metadata": {},
   "source": [
    "# Obtener datos de la API"
   ]
  },
  {
   "cell_type": "markdown",
   "metadata": {},
   "source": [
    "## Obtener una cuenta de Twitter Developer\n",
    "\n",
    "- Crear una cuenta en <a href=\"https://twitter.com/\">Twitter</a> o ingresar a una ya creada\n",
    "- Solicitar una <a href=\"https://developer.twitter.com/en/portal/petition/use-case\">cuenta de developer</a>  \n",
    "<br/>\n",
    "<img src=\"img/twitter_api_1.png\" style=\"width:50%;float:left;border:1px solid black\">\n",
    "<img src=\"img/twitter_api_2.png\" style=\"width:50%;float:left;border:1px solid black\">\n",
    "<img src=\"img/twitter_api_3.png\" style=\"width:50%;float:left;border:1px solid black\">\n",
    "<img src=\"img/twitter_api_4.png\" style=\"width:50%;float:left;border:1px solid black\">\n",
    "\n",
    "#### How will you use the Twitter API or Twitter Data?\n",
    "\n",
    "I will search and filter tweets with specific hashtags in order to perform data mining and sentiment analysis practices. These tasks are part of the Artificial Intelligence course. The extracted data will not be used for any other purpose.\n",
    "\n",
    "#### Are you planning to analyze Twitter data?\n",
    "\n",
    "I will perform sentiment analysis of the content of the tweets and their geographical location. The type of content of each tweet will be evaluated (links, images, videos)\n",
    "\n",
    "\n",
    "<br/><br/>\n",
    "<img src=\"img/twitter_api_5.png\" style=\"width:50%;float:left;border:1px solid black\">\n",
    "<img src=\"img/twitter_api_6.png\" style=\"width:50%;float:left;border:1px solid black\">\n",
    "\n",
    "\n",
    "### Responder mail\n",
    "\n",
    "Si Twitter envía un mail solicitando más información responder con el siguiente mensaje.\n",
    "\n",
    "<code>\n",
    "    I will search and filter tweets with specific hashtags in order to perform data mining and sentiment analysis practices. These tasks are part of the Artificial Intelligence course. The extracted data will not be used for any other purpose.\n",
    "    I will perform sentiment analysis of the content of the tweets and their geographical location. The type of content of each tweet will be evaluated (links, images, videos)\n",
    "    I will not be using the Tweeting, Retweeting, or liking content. I will only use the API to obtain tweets content.\n",
    "    The content of the tweets will not be shown. The content will only be used to carry out data analysis exercises during the course.\n",
    "</code>"
   ]
  },
  {
   "cell_type": "markdown",
   "metadata": {},
   "source": [
    "## Crear aplicación\n",
    "\n",
    "- Crear proyecto\n",
    "- Crear aplicación dentro del proyecto\n",
    "- Obtener y guardar claves (copiar todas las claves antes de continuar ya que no pueden ser accedidas más adelante)\n",
    "\n",
    "<br/>\n",
    "<img src=\"img/twitter_api_8.png\" style=\"width:30%;float:left;border:1px solid black\">\n",
    "<img src=\"img/twitter_api_7.png\" style=\"width:70%;float:left;border:1px solid black\">\n"
   ]
  },
  {
   "cell_type": "markdown",
   "metadata": {},
   "source": [
    "## Cargar Token en variables de entorno\n",
    "\n",
    " - Cargar el valor del token en un archivo .env\n",
    " <code>export 'BEARER_TOKEN'='valor del bearer token' </code>\n",
    " - Agregar el archivo .env dentro del .gitignore en caso de trabajar en repositorio"
   ]
  },
  {
   "cell_type": "markdown",
   "metadata": {},
   "source": [
    "## Cargar valor del Token en la aplicación"
   ]
  },
  {
   "cell_type": "code",
   "execution_count": 1,
   "metadata": {},
   "outputs": [],
   "source": [
    "import os\n",
    "from dotenv import load_dotenv\n",
    "# Cargar valores del archivo .env en las variables de entorno\n",
    "load_dotenv()\n",
    "# Cargar valor del token a variable\n",
    "bearer_token = os.environ.get(\"BEARER_TOKEN\")"
   ]
  },
  {
   "cell_type": "markdown",
   "metadata": {},
   "source": [
    "## Definir consulta a la API\n",
    "\n",
    "### URL de la consulta\n",
    "\n",
    "Definir la URL de acuerdo a los datos requeridos de acuerdo a la documentación de la <a href=\"https://developer.twitter.com/en/docs/twitter-api/api-reference-index\">API</a>"
   ]
  },
  {
   "cell_type": "code",
   "execution_count": 2,
   "metadata": {},
   "outputs": [],
   "source": [
    "url = \"https://api.twitter.com/2/tweets/search/recent\""
   ]
  },
  {
   "cell_type": "markdown",
   "metadata": {},
   "source": [
    "## Definir parámetros adicionales\n",
    "\n",
    "Definr valores como el rango de fecha, hashtag, contenido y campos requeridos."
   ]
  },
  {
   "cell_type": "code",
   "execution_count": 3,
   "metadata": {},
   "outputs": [],
   "source": [
    "params = {\n",
    "    'query': '#messi -is:retweet lang:en',\n",
    "    'tweet.fields':'created_at',\n",
    "    'max_results':100,\n",
    "}"
   ]
  },
  {
   "cell_type": "markdown",
   "metadata": {},
   "source": [
    "## Definir cabecera\n",
    "La cabecera debe llevar el Token de autenticación para que la consulta sea autorizada\n"
   ]
  },
  {
   "cell_type": "code",
   "execution_count": 4,
   "metadata": {},
   "outputs": [],
   "source": [
    "headers = {\n",
    "    \"Authorization\": f\"Bearer {bearer_token}\",\n",
    "    \"User-Agent\":\"v2FullArchiveSearchPython\"\n",
    "} "
   ]
  },
  {
   "cell_type": "markdown",
   "metadata": {},
   "source": [
    "## Realizar consulta"
   ]
  },
  {
   "cell_type": "code",
   "execution_count": 5,
   "metadata": {},
   "outputs": [
    {
     "name": "stdout",
     "output_type": "stream",
     "text": [
      "b26v89c19zqg8o3fpdv67hnmb2rnn8jqv54g89tajdqbh\n",
      "b26v89c19zqg8o3fpdv67fjsj02sitvt3ryslpa9opz0d\n",
      "b26v89c19zqg8o3fpdv5st4dweomgi8nqtxyb2vsz9lkt\n",
      "b26v89c19zqg8o3fpdv5st36v91o7a0s2comr4x06mzjx\n",
      "b26v89c19zqg8o3fpdv5sr0kag6qity5dqykt5jody0sd\n",
      "b26v89c19zqg8o3fpdv5sr0k5wjbybxf9kukftspza3y5\n",
      "b26v89c19zqg8o3fpdv5sr09o3ir2ycb18lm66o1pjfjx\n",
      "b26v89c19zqg8o3fpdv5sqzo38zfzjpd26ro9wxzhwbr1\n",
      "b26v89c19zqg8o3fpdv5sqyrpz2isxhvkl7g0xmlz05fh\n",
      "b26v89c19zqg8o3fpdv5sqy621kvnrypco4jeuzjaweil\n",
      "b26v89c19zqg8o3fpdv5sqy5uggzyrhiyelu7bdcsvdrx\n",
      "b26v89c19zqg8o3fpdv5sow4xjlp3sryobriwb6pjwghp\n",
      "b26v89c19zqg8o3fpdv5sow4rhqxxzjum5pcd63pifou5\n",
      "b26v89c19zqg8o3fpdv5sovu0l04qd8wz8fpn1raslfgd\n",
      "b26v89c19zqg8o3fpdv5sovje8bq4v1i6zv3n69amp5rx\n",
      "b26v89c19zqg8o3fpdv5souxls1hrpoybxj4y534psrjx\n",
      "b26v89c19zqg8o3fpdv5souc8itt3eyxm80q4q28qifel\n",
      "b26v89c19zqg8o3fpdv5souc5gy125bxh9gac858tvn25\n",
      "b26v89c19zqg8o3fpdv5sou1biishdoevyromfs3n635p\n",
      "b26v89c19zqg8o3fpdv5sotfzrpqtv0lhpdohcy6k6irh\n",
      "b26v89c19zqg8o3fpdv5smres8hx3u11zx0vzu4i85hfh\n",
      "b26v89c19zqg8o3fpdv5smr3wrntv1queg1lrvj4s75h9\n",
      "b26v89c19zqg8o3fpdv5smqt5u1ymx79qtsuq5t4jrl31\n",
      "b26v89c19zqg8o3fpdv5smqi8v1035psrzrhm95zuverh\n",
      "b26v89c19zqg8o3fpdv5smpx04trmdszmbf2616wu8qd9\n",
      "b26v89c19zqg8o3fpdv5smpm1ne0mt24atz12mxrkukxp\n",
      "b26v89c19zqg8o3fpdv5smpb67ers76uunh4fgppnmq9p\n",
      "b26v89c19zqg8o3fpdv5smp0c84u6630coohh3gmblp4t\n",
      "b26v89c19zqg8o3fpdv5skmoug5l5bnqoqml97n89zgcd\n",
      "b26v89c19zqg8o3fpdv5skme0jn9ovi3v7qa25ou5be65\n",
      "b26v89c19zqg8o3fpdv5skmdsx97ll3su0kdffvz09ym5\n",
      "b26v89c19zqg8o3fpdv5skm36kl4xcmezj7r5v6tk9pbx\n",
      "b26v89c19zqg8o3fpdv5skm320ah6zzqyjtkqdtawevst\n",
      "b26v89c19zqg8o3fpdv5skm2yz96mse3wgnuw88fo9tvh\n",
      "b26v89c19zqg8o3fpdv5skm2vyngq2oxcapzl7kfi4lml\n",
      "b26v89c19zqg8o3fpdv5sklsfoh3it7rfleqtiku3y7i5\n",
      "b26v89c19zqg8o3fpdv5sklse4zvd01ldn79o7oa69jel\n",
      "b26v89c19zqg8o3fpdv5skls9khgxm7n9372st8h1z14t\n",
      "b26v89c19zqg8o3fpdv5skls5249ttk4uc4oiaestt0fx\n",
      "b26v89c19zqg8o3fpdv5sklhos5dm82x648iasuus6av1\n",
      "b26v89c19zqg8o3fpdv5skl6ut31a1hiz83dhqvo6nblp\n",
      "b26v89c19zqg8o3fpdv5skkw0unm6a9nbe9xxx840p4sd\n",
      "b26v89c19zqg8o3fpdv5skkl9yrbgmtveslz3faagu0sd\n",
      "b26v89c19zqg8o3fpdv5skkl0vgcx1s3gguvb8mtx3hq5\n",
      "b26v89c19zqg8o3fpdv5sihnp4k1l6i7yo936ccggpif1\n",
      "b26v89c19zqg8o3fpdv5sig5qzwcbxxsmp9ud4ergl0u5\n",
      "b26v89c19zqg8o3fpdv5sgd865h7ezxpp5h85bthaahdp\n",
      "b26v89c19zqg8o3fpdv5sgcxmtevqo10946k7e81f5ta5\n",
      "b26v89c19zqg8o3fpdv5sgcxi8ow21dwrnk8wysjujiwt\n",
      "b26v89c19zqg8o3fpdv5sgcmyyz5emzinftv8rh6f2zr1\n",
      "b26v89c19zqg8o3fpdv5sgcmobbzwmrgk8cv3m1zxg4u5\n",
      "b26v89c19zqg8o3fpdv5se6ety8m3luioopl6ncohdim5\n",
      "b26v89c19zqg8o3fpdv5sc29xc96m250tyeoesz72bmnx\n",
      "b26v89c19zqg8o3fpdv5s9xuwlq229eol0are7w2ap4zh\n",
      "b26v89c19zqg8o3fpds9t9gjm9inr0cd2uu7rizdxviil\n",
      "b26v89c19zqg8o3fpds9t9eqypvajnkowgucgayh2k9z1\n",
      "b26v89c19zqg8o3fpds9t7abtetk16hra2d05lbbpbx4t\n",
      "b26v89c19zqg8o3fpds9t55ldhkmv6kb7gfl58i4cff5p\n",
      "b26v89c19zqg8o3fpds9t0x1j50ls5h8gwlca19lnzs71\n",
      "b26v89c19zqg8o3fpds9sytil040ww68wrqqwix2frzi5\n",
      "b26v89c19zqg8o3fpds9syrpreu4hfm6u01u9smurq6wt\n",
      "b26v89c19zqg8o3fpds9swnam3zx5avlslup11j3ylqil\n",
      "b26v89c19zqg8o3fpds9suhd6io8cor47l4yfqm4r6ph9\n",
      "b26v89c19zqg8o3fpds9ssefxst7k48w3vpbmyph365bx\n",
      "b26v89c19zqg8o3fpds9sse4w9275t50wtb7ov689habh\n",
      "b26v89c19zqg8o3fpds9sscxnij3vp0yjm4u3gers3ed9\n",
      "b26v89c19zqg8o3fpds9e5yfism8yj87b68c4jypf422l\n",
      "b26v89c19zqg8o3fpds9e3tehz6jtwr6lhsfih6bqcvwd\n",
      "b26v89c19zqg8o3fpds9e1q6999e9tx11sf7hon8bau7x\n",
      "b26v89c19zqg8o3fpds9e1ns5gv26p7kl1jcc4i510cxp\n",
      "b26v89c19zqg8o3fpds9dzkk2sdbrvk4y6wepu4j8r0ql\n"
     ]
    }
   ],
   "source": [
    "import requests\n",
    "import os\n",
    "from dotenv import load_dotenv\n",
    "import pandas as pd\n",
    "import string\n",
    "from nltk.tokenize import TweetTokenizer\n",
    "from wordcloud import WordCloud\n",
    "import matplotlib.pyplot as plt\n",
    "import nltk\n",
    "\n",
    "def get_data(url,params, total_pages):\n",
    "    results = []\n",
    "    count = 0\n",
    "    while count < total_pages:\n",
    "        count += 1\n",
    "        response = requests.get(url, headers=headers, params=params)\n",
    "        # Generar excepción si la respuesta no es exitosa\n",
    "        if response.status_code != 200:\n",
    "            raise Exception(response.status_code, response.text)\n",
    "        data = response.json()['data']\n",
    "        meta_data = dict(response.json())['meta']\n",
    "        results.append(pd.json_normalize(data))\n",
    "        if 'next_token' not in meta_data:\n",
    "            break\n",
    "        else:\n",
    "            token = meta_data['next_token']\n",
    "            print(token)\n",
    "            params = {\n",
    "                    'query': '#messi -is:retweet lang:en',\n",
    "                    'tweet.fields':'created_at',\n",
    "                    'next_token':token,\n",
    "                    'max_results':100\n",
    "            }\n",
    "    return pd.concat(results)\n",
    "\n",
    "\n",
    "url = \"https://api.twitter.com/2/tweets/search/recent\"\n",
    "df = get_data(url, params, 100)"
   ]
  },
  {
   "cell_type": "markdown",
   "metadata": {},
   "source": [
    "## Formatear respuesta\n",
    "\n",
    "Convertir respuesta en un dataframe de Pandas"
   ]
  },
  {
   "cell_type": "code",
   "execution_count": 6,
   "metadata": {},
   "outputs": [
    {
     "data": {
      "text/html": [
       "<div>\n",
       "<style scoped>\n",
       "    .dataframe tbody tr th:only-of-type {\n",
       "        vertical-align: middle;\n",
       "    }\n",
       "\n",
       "    .dataframe tbody tr th {\n",
       "        vertical-align: top;\n",
       "    }\n",
       "\n",
       "    .dataframe thead th {\n",
       "        text-align: right;\n",
       "    }\n",
       "</style>\n",
       "<table border=\"1\" class=\"dataframe\">\n",
       "  <thead>\n",
       "    <tr style=\"text-align: right;\">\n",
       "      <th></th>\n",
       "      <th>created_at</th>\n",
       "      <th>id</th>\n",
       "      <th>text</th>\n",
       "    </tr>\n",
       "  </thead>\n",
       "  <tbody>\n",
       "    <tr>\n",
       "      <th>0</th>\n",
       "      <td>2021-10-21T13:47:40.000Z</td>\n",
       "      <td>1451183407094894606</td>\n",
       "      <td>Nnamdi Kanu challenges competence of FG’s fres...</td>\n",
       "    </tr>\n",
       "    <tr>\n",
       "      <th>1</th>\n",
       "      <td>2021-10-21T13:43:56.000Z</td>\n",
       "      <td>1451182465427677187</td>\n",
       "      <td>💙❤️Our future\\n\\n#فاتي #AnsuFati2027 #AnsuFati...</td>\n",
       "    </tr>\n",
       "    <tr>\n",
       "      <th>2</th>\n",
       "      <td>2021-10-21T13:43:03.000Z</td>\n",
       "      <td>1451182245365043203</td>\n",
       "      <td>The race gets tougher with every passing event...</td>\n",
       "    </tr>\n",
       "    <tr>\n",
       "      <th>3</th>\n",
       "      <td>2021-10-21T13:42:39.000Z</td>\n",
       "      <td>1451182142164111363</td>\n",
       "      <td>Ebonyi residents observe sit-at-home, banks re...</td>\n",
       "    </tr>\n",
       "    <tr>\n",
       "      <th>4</th>\n",
       "      <td>2021-10-21T13:40:57.000Z</td>\n",
       "      <td>1451181716068974597</td>\n",
       "      <td>No Credit for Bruno ?!#UCL #Ronaldo #MUFC #Mes...</td>\n",
       "    </tr>\n",
       "    <tr>\n",
       "      <th>...</th>\n",
       "      <td>...</td>\n",
       "      <td>...</td>\n",
       "      <td>...</td>\n",
       "    </tr>\n",
       "    <tr>\n",
       "      <th>11</th>\n",
       "      <td>2021-10-14T14:03:10.000Z</td>\n",
       "      <td>1448650590951641097</td>\n",
       "      <td>@goal No one:\\n\\nAbsolutely No one:\\n\\nThe WHO...</td>\n",
       "    </tr>\n",
       "    <tr>\n",
       "      <th>12</th>\n",
       "      <td>2021-10-14T14:02:45.000Z</td>\n",
       "      <td>1448650489281712135</td>\n",
       "      <td>Without telling us you're from eFootball\\n\\n#e...</td>\n",
       "    </tr>\n",
       "    <tr>\n",
       "      <th>13</th>\n",
       "      <td>2021-10-14T14:01:16.000Z</td>\n",
       "      <td>1448650113023315972</td>\n",
       "      <td>No..Its Not... \\n\\nThe Ballon d’Or is only for...</td>\n",
       "    </tr>\n",
       "    <tr>\n",
       "      <th>14</th>\n",
       "      <td>2021-10-14T14:01:12.000Z</td>\n",
       "      <td>1448650099056201736</td>\n",
       "      <td>@Ali_Pele123 Crazy to think, #Pelé never playe...</td>\n",
       "    </tr>\n",
       "    <tr>\n",
       "      <th>15</th>\n",
       "      <td>2021-10-14T13:59:42.000Z</td>\n",
       "      <td>1448649720373473281</td>\n",
       "      <td>Barcelona are in a Messi, where do they go fro...</td>\n",
       "    </tr>\n",
       "  </tbody>\n",
       "</table>\n",
       "<p>7112 rows × 3 columns</p>\n",
       "</div>"
      ],
      "text/plain": [
       "                  created_at                   id  \\\n",
       "0   2021-10-21T13:47:40.000Z  1451183407094894606   \n",
       "1   2021-10-21T13:43:56.000Z  1451182465427677187   \n",
       "2   2021-10-21T13:43:03.000Z  1451182245365043203   \n",
       "3   2021-10-21T13:42:39.000Z  1451182142164111363   \n",
       "4   2021-10-21T13:40:57.000Z  1451181716068974597   \n",
       "..                       ...                  ...   \n",
       "11  2021-10-14T14:03:10.000Z  1448650590951641097   \n",
       "12  2021-10-14T14:02:45.000Z  1448650489281712135   \n",
       "13  2021-10-14T14:01:16.000Z  1448650113023315972   \n",
       "14  2021-10-14T14:01:12.000Z  1448650099056201736   \n",
       "15  2021-10-14T13:59:42.000Z  1448649720373473281   \n",
       "\n",
       "                                                 text  \n",
       "0   Nnamdi Kanu challenges competence of FG’s fres...  \n",
       "1   💙❤️Our future\\n\\n#فاتي #AnsuFati2027 #AnsuFati...  \n",
       "2   The race gets tougher with every passing event...  \n",
       "3   Ebonyi residents observe sit-at-home, banks re...  \n",
       "4   No Credit for Bruno ?!#UCL #Ronaldo #MUFC #Mes...  \n",
       "..                                                ...  \n",
       "11  @goal No one:\\n\\nAbsolutely No one:\\n\\nThe WHO...  \n",
       "12  Without telling us you're from eFootball\\n\\n#e...  \n",
       "13  No..Its Not... \\n\\nThe Ballon d’Or is only for...  \n",
       "14  @Ali_Pele123 Crazy to think, #Pelé never playe...  \n",
       "15  Barcelona are in a Messi, where do they go fro...  \n",
       "\n",
       "[7112 rows x 3 columns]"
      ]
     },
     "execution_count": 6,
     "metadata": {},
     "output_type": "execute_result"
    }
   ],
   "source": [
    "import pandas as pd\n",
    "#df = pd.json_normalize(response.json()['data'])\n",
    "df"
   ]
  },
  {
   "cell_type": "markdown",
   "metadata": {},
   "source": [
    "# Ejercicios\n",
    "\n",
    " A partir de la documentación del endpoint <a href=\"https://developer.twitter.com/en/docs/twitter-api/tweets/search/api-reference/get-tweets-search-recent\"> Recent </a> y las opciones de <a href=\"https://developer.twitter.com/en/docs/twitter-api/tweets/search/integrate/build-a-query\"> query </a> obtener:\n",
    " \n",
    " - Una lista de las fechas y creación de los tweets realizados por el usuario @kdnuggets que contenga el hashtag #NLP"
   ]
  },
  {
   "cell_type": "code",
   "execution_count": null,
   "metadata": {},
   "outputs": [],
   "source": []
  },
  {
   "cell_type": "markdown",
   "metadata": {},
   "source": [
    "- Una lista de los textos y nombres de usuario correspondientes a los tweets que contengan los hashtags #NLP y #MachineLearning que no sean retweets"
   ]
  },
  {
   "cell_type": "code",
   "execution_count": null,
   "metadata": {},
   "outputs": [],
   "source": []
  },
  {
   "cell_type": "markdown",
   "metadata": {},
   "source": [
    "- Una lista de los textos y enlaces de los tweets que contengan los hashtags #InteligenciaArtificial o #IA en español"
   ]
  },
  {
   "cell_type": "code",
   "execution_count": null,
   "metadata": {},
   "outputs": [],
   "source": []
  },
  {
   "cell_type": "markdown",
   "metadata": {},
   "source": [
    "## Descargar a CSV"
   ]
  },
  {
   "cell_type": "code",
   "execution_count": 7,
   "metadata": {},
   "outputs": [],
   "source": [
    "df.to_csv('tweets_full - copia.csv')"
   ]
  }
 ],
 "metadata": {
  "kernelspec": {
   "display_name": "Python 3",
   "language": "python",
   "name": "python3"
  },
  "language_info": {
   "codemirror_mode": {
    "name": "ipython",
    "version": 3
   },
   "file_extension": ".py",
   "mimetype": "text/x-python",
   "name": "python",
   "nbconvert_exporter": "python",
   "pygments_lexer": "ipython3",
   "version": "3.7.4"
  }
 },
 "nbformat": 4,
 "nbformat_minor": 5
}
