{
 "cells": [
  {
   "cell_type": "markdown",
   "metadata": {},
   "source": [
    "Este conjunto de datos se puede utilizar para predecir la gravedad (benigna o maligna)\n",
    "de una masa mamográfica a partir de los atributos BI-RADS y la edad de la paciente. Contiene una evaluación BI-RADS, la edad del paciente y tres atributos BI-RADS junto con la gravedad para 516 casos benignos y 445 masas malignas que se han identificado en mamografías digitales de campo completo recogidos en el Instituto de Radiología de la Universidad Erlangen-Nuremberg entre 2003 y 2006.\n",
    "Cada instancia tiene una evaluación BI-RADS asociada que varía de 1 (definitivamente benigna)\n",
    "a 5 (altamente sugestivo de malignidad) asignado en un proceso de doble revisión por\n",
    "médicos"
   ]
  },
  {
   "cell_type": "markdown",
   "metadata": {},
   "source": [
    "### Ejercicio\n",
    "\n",
    "- Generar un conjunto de entrenamiento y uno de prueba\n",
    "- Entrenar el modelo\n",
    "- Hacer predicciones sobre el conjunto de prueba\n",
    "- Evaluar el modelo\n",
    "\n",
    "¿El modelo logra clasificar correctamente los casos de prueba?\n",
    "¿Cómo afectaría en la realidad el error de este modelo?\n"
   ]
  },
  {
   "cell_type": "code",
   "execution_count": 1,
   "metadata": {},
   "outputs": [],
   "source": [
    "import pandas as pd\n",
    "from sklearn.model_selection import train_test_split\n",
    "from sklearn.naive_bayes import GaussianNB\n",
    "from sklearn import metrics\n",
    "import matplotlib.pyplot as plt\n",
    "import numpy"
   ]
  },
  {
   "cell_type": "code",
   "execution_count": 2,
   "metadata": {},
   "outputs": [
    {
     "data": {
      "text/html": [
       "<div>\n",
       "<style scoped>\n",
       "    .dataframe tbody tr th:only-of-type {\n",
       "        vertical-align: middle;\n",
       "    }\n",
       "\n",
       "    .dataframe tbody tr th {\n",
       "        vertical-align: top;\n",
       "    }\n",
       "\n",
       "    .dataframe thead th {\n",
       "        text-align: right;\n",
       "    }\n",
       "</style>\n",
       "<table border=\"1\" class=\"dataframe\">\n",
       "  <thead>\n",
       "    <tr style=\"text-align: right;\">\n",
       "      <th></th>\n",
       "      <th>BI_RADS_assessment</th>\n",
       "      <th>age</th>\n",
       "      <th>shape</th>\n",
       "      <th>margin</th>\n",
       "      <th>density</th>\n",
       "      <th>severity</th>\n",
       "    </tr>\n",
       "  </thead>\n",
       "  <tbody>\n",
       "    <tr>\n",
       "      <th>0</th>\n",
       "      <td>5</td>\n",
       "      <td>67</td>\n",
       "      <td>3</td>\n",
       "      <td>5</td>\n",
       "      <td>3</td>\n",
       "      <td>1</td>\n",
       "    </tr>\n",
       "    <tr>\n",
       "      <th>1</th>\n",
       "      <td>4</td>\n",
       "      <td>43</td>\n",
       "      <td>1</td>\n",
       "      <td>1</td>\n",
       "      <td>-100000</td>\n",
       "      <td>1</td>\n",
       "    </tr>\n",
       "    <tr>\n",
       "      <th>2</th>\n",
       "      <td>5</td>\n",
       "      <td>58</td>\n",
       "      <td>4</td>\n",
       "      <td>5</td>\n",
       "      <td>3</td>\n",
       "      <td>1</td>\n",
       "    </tr>\n",
       "    <tr>\n",
       "      <th>3</th>\n",
       "      <td>4</td>\n",
       "      <td>28</td>\n",
       "      <td>1</td>\n",
       "      <td>1</td>\n",
       "      <td>3</td>\n",
       "      <td>0</td>\n",
       "    </tr>\n",
       "    <tr>\n",
       "      <th>4</th>\n",
       "      <td>5</td>\n",
       "      <td>74</td>\n",
       "      <td>1</td>\n",
       "      <td>5</td>\n",
       "      <td>-100000</td>\n",
       "      <td>1</td>\n",
       "    </tr>\n",
       "    <tr>\n",
       "      <th>...</th>\n",
       "      <td>...</td>\n",
       "      <td>...</td>\n",
       "      <td>...</td>\n",
       "      <td>...</td>\n",
       "      <td>...</td>\n",
       "      <td>...</td>\n",
       "    </tr>\n",
       "    <tr>\n",
       "      <th>956</th>\n",
       "      <td>4</td>\n",
       "      <td>47</td>\n",
       "      <td>2</td>\n",
       "      <td>1</td>\n",
       "      <td>3</td>\n",
       "      <td>0</td>\n",
       "    </tr>\n",
       "    <tr>\n",
       "      <th>957</th>\n",
       "      <td>4</td>\n",
       "      <td>56</td>\n",
       "      <td>4</td>\n",
       "      <td>5</td>\n",
       "      <td>3</td>\n",
       "      <td>1</td>\n",
       "    </tr>\n",
       "    <tr>\n",
       "      <th>958</th>\n",
       "      <td>4</td>\n",
       "      <td>64</td>\n",
       "      <td>4</td>\n",
       "      <td>5</td>\n",
       "      <td>3</td>\n",
       "      <td>0</td>\n",
       "    </tr>\n",
       "    <tr>\n",
       "      <th>959</th>\n",
       "      <td>5</td>\n",
       "      <td>66</td>\n",
       "      <td>4</td>\n",
       "      <td>5</td>\n",
       "      <td>3</td>\n",
       "      <td>1</td>\n",
       "    </tr>\n",
       "    <tr>\n",
       "      <th>960</th>\n",
       "      <td>4</td>\n",
       "      <td>62</td>\n",
       "      <td>3</td>\n",
       "      <td>3</td>\n",
       "      <td>3</td>\n",
       "      <td>0</td>\n",
       "    </tr>\n",
       "  </tbody>\n",
       "</table>\n",
       "<p>961 rows × 6 columns</p>\n",
       "</div>"
      ],
      "text/plain": [
       "     BI_RADS_assessment  age  shape  margin  density  severity\n",
       "0                     5   67      3       5        3         1\n",
       "1                     4   43      1       1  -100000         1\n",
       "2                     5   58      4       5        3         1\n",
       "3                     4   28      1       1        3         0\n",
       "4                     5   74      1       5  -100000         1\n",
       "..                  ...  ...    ...     ...      ...       ...\n",
       "956                   4   47      2       1        3         0\n",
       "957                   4   56      4       5        3         1\n",
       "958                   4   64      4       5        3         0\n",
       "959                   5   66      4       5        3         1\n",
       "960                   4   62      3       3        3         0\n",
       "\n",
       "[961 rows x 6 columns]"
      ]
     },
     "execution_count": 2,
     "metadata": {},
     "output_type": "execute_result"
    }
   ],
   "source": [
    "df = pd.read_csv(\"mammogram_dataset.csv\")\n",
    "df"
   ]
  },
  {
   "cell_type": "code",
   "execution_count": 3,
   "metadata": {},
   "outputs": [],
   "source": [
    "df[\"density\"] = df[\"density\"].replace([-100000], df.mode(axis=0)[\"density\"])\n",
    "df[\"BI_RADS_assessment\"] = df[\"BI_RADS_assessment\"].replace([-100000], df.mode(axis=0)[\"BI_RADS_assessment\"])\n",
    "df[\"age\"] = df[\"age\"].replace([-100000], df.mode(axis=0)[\"age\"])\n",
    "df[\"shape\"] = df[\"shape\"].replace([-100000], df.mode(axis=0)[\"shape\"])\n",
    "df[\"margin\"] = df[\"margin\"].replace([-100000], df.mode(axis=0)[\"margin\"])\n",
    "df[\"severity\"] = df[\"severity\"].replace([-100000], df.mode(axis=0)[\"severity\"])"
   ]
  },
  {
   "cell_type": "markdown",
   "metadata": {},
   "source": [
    "# Datos"
   ]
  },
  {
   "cell_type": "code",
   "execution_count": 4,
   "metadata": {},
   "outputs": [
    {
     "data": {
      "text/plain": [
       "array([[67,  3,  5,  3,  1],\n",
       "       [43,  1,  1,  3,  1],\n",
       "       [58,  4,  5,  3,  1],\n",
       "       ...,\n",
       "       [64,  4,  5,  3,  0],\n",
       "       [66,  4,  5,  3,  1],\n",
       "       [62,  3,  3,  3,  0]], dtype=int64)"
      ]
     },
     "execution_count": 4,
     "metadata": {},
     "output_type": "execute_result"
    }
   ],
   "source": [
    "data = df.values[:, 1:6]\n",
    "data"
   ]
  },
  {
   "cell_type": "markdown",
   "metadata": {},
   "source": [
    "# Etiquetas"
   ]
  },
  {
   "cell_type": "code",
   "execution_count": 5,
   "metadata": {},
   "outputs": [
    {
     "data": {
      "text/plain": [
       "array([5, 4, 5, 4, 5, 4, 4, 5, 5, 5, 5, 3, 4, 4, 4, 4, 3, 4, 4, 4, 4, 5,\n",
       "       4, 5, 4, 5, 2, 5, 5, 5, 4, 5, 5, 4, 4, 4, 4, 5, 4, 4, 4, 4, 4, 4,\n",
       "       5, 5, 5, 4, 2, 5, 4, 5, 4, 4, 4, 4, 4, 5, 4, 5, 5, 5, 4, 3, 5, 4,\n",
       "       4, 5, 4, 4, 4, 5, 5, 5, 5, 4, 5, 4, 5, 5, 4, 5, 3, 4, 5, 4, 5, 5,\n",
       "       4, 5, 4, 4, 4, 5, 5, 5, 4, 4, 5, 4, 5, 4, 4, 4, 4, 4, 4, 3, 4, 5,\n",
       "       4, 5, 5, 4, 4, 4, 4, 4, 5, 5, 5, 4, 4, 4, 5, 4, 4, 4, 4, 5, 5, 5,\n",
       "       5, 4, 5, 5, 4, 5, 4, 5, 5, 4, 4, 4, 4, 5, 5, 4, 4, 4, 5, 5, 4, 4,\n",
       "       3, 4, 5, 4, 4, 4, 5, 4, 4, 4, 4, 5, 4, 4, 5, 5, 4, 4, 4, 4, 4, 5,\n",
       "       4, 4, 5, 5, 4, 5, 4, 4, 4, 5, 5, 4, 5, 5, 4, 5, 5, 4, 4, 5, 4, 5,\n",
       "       4, 4, 4, 3, 4, 2, 4, 5, 4, 4, 4, 4, 4, 4, 2, 5, 5, 4, 4, 4, 5, 3,\n",
       "       3, 4, 5, 5, 5, 4, 5, 2, 4, 4, 3, 5, 5, 4, 5, 5, 3, 4, 4, 4, 5, 4,\n",
       "       4, 3, 5, 4, 4, 5, 4, 3, 4, 5, 4, 4, 5, 3, 5, 5, 5, 5, 5, 4, 4, 4,\n",
       "       5, 4, 5, 3, 5, 5, 5, 5, 5, 2, 4, 5, 5, 4, 5, 4, 5, 4, 4, 4, 4, 4,\n",
       "       4, 4, 5, 5, 5, 4, 5, 4, 4, 5, 4, 4, 4, 5, 5, 4, 3, 4, 4, 4, 2, 4,\n",
       "       4, 4, 4, 5, 4, 4, 4, 4, 4, 4, 4, 4, 4, 5, 4, 5, 4, 4, 4, 4, 4, 5,\n",
       "       5, 4, 5, 5, 4, 5, 5, 5, 4, 4, 5, 5, 4, 4, 4, 5, 4, 5, 5, 4, 5, 5,\n",
       "       4, 4, 5, 4, 4, 4, 5, 5, 4, 5, 4, 5, 3, 4, 4, 5, 5, 4, 5, 3, 3, 4,\n",
       "       5, 4, 4, 5, 5, 4, 4, 5, 5, 4, 4, 4, 4, 5, 2, 3, 5, 5, 4, 4, 4, 5,\n",
       "       5, 4, 3, 5, 4, 5, 5, 5, 5, 5, 3, 4, 5, 5, 4, 5, 4, 5, 5, 5, 4, 5,\n",
       "       5, 5, 4, 4, 4, 4, 5, 5, 5, 4, 5, 5, 4, 5, 4, 4, 5, 4, 5, 5, 4, 5,\n",
       "       5, 5, 4, 4, 4, 5, 4, 4, 5, 5, 5, 4, 4, 5, 4, 4, 0, 4, 5, 3, 4, 4,\n",
       "       5, 4, 3, 4, 5, 5, 4, 5, 4, 5, 4, 4, 4, 4, 4, 4, 5, 4, 5, 4, 4, 4,\n",
       "       4, 4, 4, 4, 5, 4, 5, 5, 4, 5, 4, 5, 4, 4, 4, 5, 5, 5, 4, 4, 4, 4,\n",
       "       5, 5, 5, 5, 4, 4, 5, 4, 5, 3, 4, 5, 4, 3, 4, 5, 5, 4, 2, 5, 5, 5,\n",
       "       5, 5, 4, 4, 4, 0, 4, 5, 4, 5, 4, 4, 3, 4, 4, 4, 5, 4, 4, 5, 4, 5,\n",
       "       6, 3, 4, 4, 5, 4, 4, 5, 4, 5, 5, 2, 4, 4, 5, 5, 4, 4, 4, 4, 4, 4,\n",
       "       4, 4, 4, 5, 4, 4, 5, 4, 4, 2, 4, 4, 5, 4, 4, 5, 4, 5, 5, 5, 4, 5,\n",
       "       5, 5, 5, 4, 5, 4, 4, 5, 4, 4, 4, 5, 5, 4, 4, 5, 5, 5, 5, 5, 3, 4,\n",
       "       5, 4, 5, 4, 4, 4, 4, 5, 4, 5, 5, 4, 4, 4, 4, 4, 5, 5, 4, 5, 4, 4,\n",
       "       4, 5, 4, 4, 5, 4, 4, 4, 5, 4, 4, 5, 4, 5, 4, 4, 4, 5, 5, 4, 2, 5,\n",
       "       4, 4, 3, 5, 6, 4, 5, 4, 5, 4, 5, 5, 5, 4, 5, 5, 5, 4, 5, 4, 4, 4,\n",
       "       4, 5, 5, 5, 5, 4, 5, 5, 4, 4, 6, 4, 4, 4, 4, 4, 4, 5, 4, 4, 4, 4,\n",
       "       4, 5, 4, 6, 4, 4, 4, 4, 4, 5, 4, 4, 4, 6, 6, 4, 4, 4, 5, 4, 5, 4,\n",
       "       5, 5, 4, 4, 4, 5, 4, 4, 3, 4, 4, 4, 4, 4, 4, 4, 4, 4, 4, 6, 5, 4,\n",
       "       5, 4, 4, 4, 5, 5, 4, 4, 5, 5, 5, 5, 4, 5, 5, 5, 4, 5, 4, 4, 4, 5,\n",
       "       4, 2, 5, 4, 4, 3, 4, 4, 4, 4, 4, 3, 5, 4, 6, 4, 4, 4, 4, 4, 4, 4,\n",
       "       4, 4, 3, 5, 5, 5, 4, 0, 5, 5, 4, 4, 4, 5, 5, 4, 5, 4, 5, 5, 5, 4,\n",
       "       4, 4, 4, 4, 4, 4, 5, 4, 4, 4, 6, 4, 5, 5, 4, 4, 5, 4, 6, 5, 4, 5,\n",
       "       4, 4, 4, 4, 4, 4, 5, 4, 4, 4, 4, 4, 5, 4, 4, 4, 4, 4, 4, 4, 4, 4,\n",
       "       4, 5, 5, 5, 5, 4, 5, 4, 5, 4, 2, 4, 5, 4, 5, 4, 4, 4, 4, 3, 5, 4,\n",
       "       4, 5, 4, 3, 5, 4, 4, 5, 5, 6, 5, 4, 4, 0, 4, 4, 4, 5, 4, 4, 4, 4,\n",
       "       4, 5, 4, 4, 4, 4, 4, 4, 4, 4, 4, 4, 4, 4, 4, 4, 4, 4, 4, 4, 4, 5,\n",
       "       4, 4, 5, 4, 5, 4, 4, 4, 4, 4, 4, 4, 4, 4, 4, 4, 4, 4, 5, 4, 5, 4,\n",
       "       4, 4, 4, 4, 0, 5, 4, 4, 4, 4, 4, 4, 4, 5, 4])"
      ]
     },
     "execution_count": 5,
     "metadata": {},
     "output_type": "execute_result"
    }
   ],
   "source": [
    "labels = df.values[:, 0]\n",
    "labels = list(labels)\n",
    "new_list = []\n",
    "for string in labels:\n",
    "    string = str(string)\n",
    "    new_string = string.replace(\"55\", \"5\") # Elimino el 55 de la lista\n",
    "    new_list.append(int(new_string))\n",
    "labels = numpy.asarray(new_list)\n",
    "labels"
   ]
  },
  {
   "cell_type": "markdown",
   "metadata": {},
   "source": [
    "# Conjuntos de entrenamiento y pruebas"
   ]
  },
  {
   "cell_type": "code",
   "execution_count": 6,
   "metadata": {},
   "outputs": [],
   "source": [
    "X_train, X_test, y_train, y_test = train_test_split(data, labels, test_size=0.3, random_state=20)"
   ]
  },
  {
   "cell_type": "markdown",
   "metadata": {},
   "source": [
    "# Entrenamiento"
   ]
  },
  {
   "cell_type": "code",
   "execution_count": 7,
   "metadata": {},
   "outputs": [
    {
     "data": {
      "text/plain": [
       "GaussianNB()"
      ]
     },
     "execution_count": 7,
     "metadata": {},
     "output_type": "execute_result"
    }
   ],
   "source": [
    "gnb = GaussianNB()\n",
    "gnb.fit(X_train, y_train)"
   ]
  },
  {
   "cell_type": "markdown",
   "metadata": {},
   "source": [
    "# Pruebas"
   ]
  },
  {
   "cell_type": "code",
   "execution_count": 8,
   "metadata": {},
   "outputs": [
    {
     "data": {
      "text/plain": [
       "array([0, 4, 4, 0, 5, 4, 5, 0, 4, 0, 0, 4, 5, 0, 4, 0, 4, 4, 0, 0, 4, 0,\n",
       "       4, 4, 0, 4, 4, 0, 0, 5, 4, 0, 0, 4, 4, 5, 4, 5, 4, 4, 4, 4, 4, 4,\n",
       "       4, 0, 0, 0, 4, 0, 0, 0, 4, 0, 5, 0, 0, 0, 0, 5, 0, 5, 5, 5, 0, 0,\n",
       "       4, 4, 2, 4, 0, 2, 0, 0, 4, 4, 4, 0, 0, 4, 0, 4, 4, 0, 5, 0, 0, 5,\n",
       "       4, 4, 4, 0, 4, 0, 0, 5, 4, 0, 4, 0, 4, 0, 4, 4, 2, 0, 5, 2, 4, 4,\n",
       "       4, 0, 4, 0, 4, 0, 0, 4, 4, 0, 4, 0, 4, 5, 0, 5, 4, 4, 0, 4, 0, 4,\n",
       "       0, 0, 5, 5, 4, 0, 5, 2, 4, 0, 0, 0, 0, 0, 4, 0, 4, 0, 0, 4, 4, 0,\n",
       "       0, 4, 5, 4, 0, 5, 0, 5, 0, 4, 4, 0, 4, 4, 4, 0, 4, 4, 5, 4, 0, 5,\n",
       "       4, 4, 0, 4, 4, 4, 0, 0, 5, 4, 0, 0, 0, 0, 5, 5, 4, 5, 4, 0, 4, 5,\n",
       "       5, 0, 5, 5, 4, 4, 4, 0, 4, 4, 4, 0, 0, 0, 0, 0, 0, 0, 4, 4, 5, 0,\n",
       "       0, 5, 4, 0, 0, 4, 5, 4, 0, 0, 0, 0, 0, 4, 4, 0, 4, 4, 0, 0, 5, 4,\n",
       "       0, 0, 5, 4, 0, 4, 0, 4, 0, 0, 4, 4, 0, 4, 5, 4, 4, 4, 4, 0, 5, 4,\n",
       "       4, 0, 5, 0, 0, 4, 0, 5, 4, 4, 0, 0, 4, 4, 4, 0, 0, 4, 0, 4, 0, 4,\n",
       "       4, 0, 0])"
      ]
     },
     "execution_count": 8,
     "metadata": {},
     "output_type": "execute_result"
    }
   ],
   "source": [
    "y_pred = gnb.predict(X_test)\n",
    "y_pred"
   ]
  },
  {
   "cell_type": "code",
   "execution_count": 9,
   "metadata": {
    "scrolled": true
   },
   "outputs": [
    {
     "data": {
      "text/plain": [
       "0.46366782006920415"
      ]
     },
     "execution_count": 9,
     "metadata": {},
     "output_type": "execute_result"
    }
   ],
   "source": [
    "metrics.accuracy_score(y_pred, y_test)"
   ]
  },
  {
   "cell_type": "code",
   "execution_count": 10,
   "metadata": {
    "scrolled": false
   },
   "outputs": [
    {
     "data": {
      "image/png": "[encoded data removed]",
      "text/plain": [
       "<Figure size 432x288 with 2 Axes>"
      ]
     },
     "metadata": {
      "needs_background": "light"
     },
     "output_type": "display_data"
    }
   ],
   "source": [
    "metrics.confusion_matrix(y_test, y_pred)\n",
    "disp = metrics.plot_confusion_matrix(gnb, X_test, y_test, cmap=plt.cm.Blues)\n",
    "disp.ax_.set_title('Confusion Matrix')\n",
    "plt.show()"
   ]
  },
  {
   "cell_type": "markdown",
   "metadata": {},
   "source": [
    "# Conclusiones"
   ]
  },
  {
   "cell_type": "markdown",
   "metadata": {},
   "source": [
    "El puntaje de las predicciones es demasiado bajo, el error producira predicciones erroneas en casos reales."
   ]
  }
 ],
 "metadata": {
  "kernelspec": {
   "display_name": "Python 3",
   "language": "python",
   "name": "python3"
  },
  "language_info": {
   "codemirror_mode": {
    "name": "ipython",
    "version": 3
   },
   "file_extension": ".py",
   "mimetype": "text/x-python",
   "name": "python",
   "nbconvert_exporter": "python",
   "pygments_lexer": "ipython3",
   "version": "3.7.4"
  }
 },
 "nbformat": 4,
 "nbformat_minor": 4
}
