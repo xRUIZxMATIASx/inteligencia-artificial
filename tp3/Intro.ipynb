{
 "cells": [
  {
   "cell_type": "markdown",
   "metadata": {},
   "source": [
    "# Aprendizaje Bayesiano\n",
    "\n",
    "Se encuentra la <b>clasificación más probable</b> a partir de un <b>conjunto de ejemplos de entrenamiento</b> y un conocimiento previo sobre la probabilidad de cada una de las hipótesis.\n",
    "\n",
    "## Teorema de Bayes\n",
    "\n",
    "P(C|X)=P(X|C)P(C)/P(X) \n",
    "      \n",
    "Donde:\n",
    "- P(C) = probabilidad a priori de la clase C \n",
    "- P(X) =probabilidad de observar el ejemplo X. Siempre vale 1 ya que todos tienen la misma probabilidad.\n",
    "- P(X|C) = probabilidad de observar X en C\n",
    "- P(C|X)= probabilidad a posteriori de C cuando se ha observado X\n",
    "\n",
    "## Verosimilitud\n",
    "\n",
    "Para calcular el P(C|X) llamada verosimilitud se asume que todos los atributos (x1,x2,…,xn) del conjunto de entrenamiento X son <b>independientes</b>\n",
    "\n",
    "P(C|x1,x2,x3,…,xn)=P(C)*P(x1|C)*P(x2|C)*P(x3|C)*….*P(xn|C)\n",
    "\n",
    "El ejemplo se clasificará según la clase que tenga una <b>probabilidad mayor</b>\n",
    "\n",
    "### Algoritmo \n",
    "\n",
    "- Obtener la <b>probabilidad a priori</b>\n",
    "- Para el nuevo ejemplo obtener la <b>verosimilitud</b> de cada clase:\n",
    "- Multiplicar la probabilidad a priori por la probabilidad de cada atributo del ejemplo para esa clase\n",
    "- Seleccionar la clase con mayor verosimilitud"
   ]
  },
  {
   "cell_type": "markdown",
   "metadata": {},
   "source": [
    "## Modelo Gaussiano\n",
    "\n",
    "<img src=\"tabla1.png\" width=\"400\">\n",
    "\n",
    "Se calcula la media y la varianza para cada atributo y clase donde <b>μ</b> es la media y <b>σ</b> la varianza\n",
    "\n",
    "<img src=\"tabla2.png\" width=\"500\">"
   ]
  },
  {
   "cell_type": "markdown",
   "metadata": {},
   "source": [
    "### Probabilidad a priori\n",
    "\n",
    "Se calcula la probabilidad que cada clase tiene de aparecer tomando en cuenta su presencia en el conjunto de entrenamiento.\n",
    "\n",
    "<code>\n",
    "P(H) 4/8 =0,5\n",
    "P(M) 4/8 =0,5\n",
    "</code>\n",
    "\n",
    "Cada clase tiene la misma probabilidad a priori ya que ambas aparecen la misma cantidad en el conjunto.\n",
    "\n",
    "### Clasificación de un nuevo ejemplo\n",
    "\n",
    "- Estatura 6\n",
    "- Peso :130\n",
    "- Pies:  8\n",
    "\n",
    "¿A que clase pertenece?\n",
    "\n",
    "### Cálculo de la probabilidad a posteriori para cada clase\n",
    "\n",
    "<code>\n",
    "P(H|X) =P(H)*P(estatura|H) *P(peso|H) *P(pies|H) \n",
    "P(M|X) =P(M)*P(estatura|M) *P(peso|M) *P(pies|M) \n",
    "</code>\n",
    "\n",
    "La probabilidad de la ocurrencia de el valor de cada atributo (estatura, peso y pies) para cada clase se calculará utilizando la fórmula de distribución Gaussiana.\n",
    "\n",
    "<img src=\"formula.png\" width=\"300\">\n",
    "\n",
    "Donde <b>μ</b> es la media y <b>σ</b> la varianza\n",
    "\n",
    "Calculando y modificando estos valores el resultado sería:\n",
    "\n",
    "<code>\n",
    "P(H|X) =0.5*(1.5789)*(5.9881e-06)*(1.3112e-03)=6.1984e-9\n",
    "P(M|X) =0.5*(2.2346e-01)*(1.67893e-2)*(2.866e-1)=5.3778e-04  \n",
    "</code>\n",
    "\n",
    "Ya que la probabilidad de pertenencia a la clase mujer es más alta se clasifica el ejemplo como mujer\n"
   ]
  }
 ],
 "metadata": {
  "kernelspec": {
   "display_name": "Python 3",
   "language": "python",
   "name": "python3"
  },
  "language_info": {
   "codemirror_mode": {
    "name": "ipython",
    "version": 3
   },
   "file_extension": ".py",
   "mimetype": "text/x-python",
   "name": "python",
   "nbconvert_exporter": "python",
   "pygments_lexer": "ipython3",
   "version": "3.7.6"
  }
 },
 "nbformat": 4,
 "nbformat_minor": 4
}
