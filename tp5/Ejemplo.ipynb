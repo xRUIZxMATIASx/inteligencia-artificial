{
 "cells": [
  {
   "cell_type": "code",
   "execution_count": 2,
   "metadata": {},
   "outputs": [],
   "source": [
    "import numpy\n",
    "import matplotlib\n",
    "import matplotlib.pyplot as plt"
   ]
  },
  {
   "cell_type": "markdown",
   "metadata": {},
   "source": [
    "## Objetivo\n",
    "\n",
    "Maximizar la siguiente ecuación:\n",
    "\n",
    "y = ((5+x1-X3)+(-30-X1+X4)+(x2-X1 + 50))\n"
   ]
  },
  {
   "cell_type": "markdown",
   "metadata": {},
   "source": [
    "## Codificación\n",
    "\n",
    "Para este problema el cromosoma estará compuesto por 4 genes cada uno de ellos representará el valor de una X\n",
    "\n",
    "[X1 X2 X3 X4]"
   ]
  },
  {
   "cell_type": "markdown",
   "metadata": {},
   "source": [
    "## Adaptación\n",
    "\n",
    "La función de adaptación será el resultado de la ecuación para la población actual. Ya que se trata de maximizar el resultado a mayor reultado mayor adaptación."
   ]
  },
  {
   "cell_type": "code",
   "execution_count": 3,
   "metadata": {},
   "outputs": [],
   "source": [
    "#equation_inputs : valores de entrada\n",
    "#pop : población\n",
    "def cal_pop_fitness(population):\n",
    "    fitness = []\n",
    "    for pop in population:\n",
    "        fitness.append( ((5 + pop[0] - pop[2]) + (-30 - pop[0] + pop[3]) + (pop[1] - pop[0] + 50)) )\n",
    "    return fitness"
   ]
  },
  {
   "cell_type": "markdown",
   "metadata": {},
   "source": [
    "## Selección\n",
    "\n",
    "La función de selección buscará dentro de la población cuyo valor de adaptación ya ha sido seleccionado y devolverá los más adaptados."
   ]
  },
  {
   "cell_type": "code",
   "execution_count": 4,
   "metadata": {},
   "outputs": [],
   "source": [
    "#pop: población\n",
    "#fitness: arreglo con los valores de adaptación\n",
    "#num_parent: cantidad de padres que se quieren obtener\n",
    "def select_mating_pool(pop, fitness, num_parents):\n",
    "    #Crear arreglo vacío que contendrá los padres seleccionados\n",
    "    parents = numpy.empty((num_parents, pop.shape[1]))\n",
    "    for parent_num in range(num_parents):\n",
    "        #Obtener individuo con mayor adaptación\n",
    "        max_fitness_idx = numpy.where(fitness == numpy.max(fitness))\n",
    "        #Obtener índice del individuo\n",
    "        max_fitness_idx = max_fitness_idx[0][0]\n",
    "        #Cargar individuo a la lista de padres\n",
    "        parents[parent_num, :] = pop[max_fitness_idx, :]\n",
    "        #Setear valor de adaptación a un valor muy malo para que no vuelva a ser elegido\n",
    "        fitness[max_fitness_idx] = -99999999999\n",
    "    #Devolver lista de padres\n",
    "    return parents"
   ]
  },
  {
   "cell_type": "markdown",
   "metadata": {},
   "source": [
    "## Cruza\n",
    "\n",
    "La cruza se realizará utilizando el método de un punto."
   ]
  },
  {
   "cell_type": "code",
   "execution_count": 5,
   "metadata": {},
   "outputs": [],
   "source": [
    "#parents: lista de padres\n",
    "#offspring_size: cantidad de hijos que se quieren obtener\n",
    "def crossover(parents, offspring_size):\n",
    "    #Generar arreglo vacío donde se guardarán los hijos\n",
    "    offspring = numpy.empty((offspring_size,parents.shape[1]))\n",
    "    #Definir punto de cruce en la mitad de los padre\n",
    "    crossover_point = numpy.uint8(parents.shape[0]/2)\n",
    "    for k in range(offspring_size):\n",
    "        # Índice del primer padre para realizar la cruza\n",
    "        parent1_idx = k%parents.shape[0]\n",
    "        # Índice del segundo padre para realizar la cruza\n",
    "        parent2_idx = (k+1)%parents.shape[0]\n",
    "        # Generar el primer hijo con la primer mitad de un padre y la segunda de otro\n",
    "        offspring[k, 0:crossover_point] = parents[parent1_idx, 0:crossover_point]\n",
    "        # Generar el segundo hijo con las partes opuestas\n",
    "        offspring[k, crossover_point:] = parents[parent2_idx, crossover_point:]\n",
    "    #Devolver lista de hijos\n",
    "    return offspring"
   ]
  },
  {
   "cell_type": "markdown",
   "metadata": {},
   "source": [
    "## Mutación\n",
    "\n",
    "La función de mutación recorrerá todos los hijos generados y cambiará el valor de uno de sus genes."
   ]
  },
  {
   "cell_type": "code",
   "execution_count": 14,
   "metadata": {},
   "outputs": [],
   "source": [
    "#offspring_crossover: lista de hijos a mutar\n",
    "def mutation(offspring_crossover):\n",
    "    for idx in range(offspring_crossover.shape[0]):\n",
    "        #Generar un valor aleatorio\n",
    "        random_value = numpy.random.uniform(-500, 500)\n",
    "        # Sumar el valor aleatorio a uno de los genes\n",
    "        offspring_crossover[idx, numpy.random.randint(low=0, high=(offspring_crossover.shape[1]-1) )] = offspring_crossover[idx, offspring_crossover.shape[1]-1] + random_value\n",
    "    #Devolver lista de hijos mutados\n",
    "    return offspring_crossover"
   ]
  },
  {
   "cell_type": "markdown",
   "metadata": {},
   "source": [
    "# Algoritmo"
   ]
  },
  {
   "cell_type": "code",
   "execution_count": 15,
   "metadata": {},
   "outputs": [
    {
     "name": "stdout",
     "output_type": "stream",
     "text": [
      "Población incial\n",
      "[[-9772.59152463 -9734.49230376 -5309.37791644   157.160596  ]\n",
      " [  932.60480786   673.5331968   9629.55350319  7225.70364924]\n",
      " [ 6184.39947212  6126.3234652  -6738.62657512  4122.54144825]\n",
      " ...\n",
      " [ 8559.86106255  3067.68542854  -937.05632809 -6664.20078873]\n",
      " [ 2447.37998573  8600.7534455   6200.03776931 -7602.53189831]\n",
      " [-2880.04007956 -3825.74226739 -2162.8355495  -8298.59380791]]\n"
     ]
    }
   ],
   "source": [
    "#Cantidad de genes\n",
    "num_genes = 4\n",
    "#Soluciones por población\n",
    "sol_per_pop = 10000\n",
    "#Número de padres para cruza\n",
    "num_parents_mating = 50\n",
    "#Tamaño de la población\n",
    "pop_size = (sol_per_pop,num_genes) \n",
    "#Crear pobliación inicial con valores aleatorios\n",
    "new_population = numpy.random.uniform(low=-10000.0, high=10000.0, size=pop_size)\n",
    "print(\"Población incial\")\n",
    "print(new_population)\n",
    "#Cantidad de generaciones a realizar\n",
    "num_generations = 100"
   ]
  },
  {
   "cell_type": "code",
   "execution_count": 16,
   "metadata": {},
   "outputs": [
    {
     "name": "stdout",
     "output_type": "stream",
     "text": [
      "Mejor resultado :  [[[-9615.43596001 10105.55109297 -7770.0672275   9605.55292911]]]\n",
      "Adaptación del mejor resultado :  37121.60720958309\n"
     ]
    },
    {
     "data": {
      "image/png": "[encoded data removed]",
      "text/plain": [
       "<Figure size 432x288 with 1 Axes>"
      ]
     },
     "metadata": {
      "needs_background": "light"
     },
     "output_type": "display_data"
    }
   ],
   "source": [
    "gen = []\n",
    "fit = []\n",
    "for generation in range(num_generations):\n",
    "    # Obtener valores de adaptación de la población\n",
    "    fitness = cal_pop_fitness(new_population)\n",
    "    # Selección\n",
    "    parents = select_mating_pool(new_population, fitness, \n",
    "                                      num_parents_mating)\n",
    "    # Cruza\n",
    "    offspring_crossover = crossover(parents,\n",
    "                                       offspring_size=(pop_size[0]-parents.shape[0]))\n",
    "\n",
    "    # Mutación\n",
    "    offspring_mutation = mutation(offspring_crossover)\n",
    "\n",
    "    # Crear nueva población basada en los padres y los hijos\n",
    "    new_population[0:parents.shape[0], :] = parents\n",
    "    new_population[parents.shape[0]:, :] = offspring_mutation\n",
    "       \n",
    "\n",
    "    # Obtener mejor resultado para la generación\n",
    "    fit.append(numpy.max(cal_pop_fitness(new_population)))\n",
    "    gen.append(generation)\n",
    "    \n",
    "\n",
    "#Obtener la mejor solución\n",
    "fitness = cal_pop_fitness(new_population)\n",
    "best_match_idx = numpy.where(fitness == numpy.max(fitness))\n",
    "print(\"Mejor resultado : \", new_population[best_match_idx, :])\n",
    "print(\"Adaptación del mejor resultado : \", fitness[best_match_idx[0][0]])\n",
    "\n",
    "#Gráfico\n",
    "fig, ax = plt.subplots()\n",
    "ax.plot(gen, fit, 'b')\n",
    "ax.set_ylabel('Fitness')\n",
    "ax.set_xlabel('Generation')\n",
    "plt.show()"
   ]
  },
  {
   "cell_type": "markdown",
   "metadata": {},
   "source": [
    "Fuente: https://towardsdatascience.com/genetic-algorithm-implementation-in-python-5ab67bb124a6"
   ]
  },
  {
   "cell_type": "code",
   "execution_count": null,
   "metadata": {},
   "outputs": [],
   "source": []
  },
  {
   "cell_type": "code",
   "execution_count": null,
   "metadata": {},
   "outputs": [],
   "source": []
  }
 ],
 "metadata": {
  "kernelspec": {
   "display_name": "Python 3",
   "language": "python",
   "name": "python3"
  },
  "language_info": {
   "codemirror_mode": {
    "name": "ipython",
    "version": 3
   },
   "file_extension": ".py",
   "mimetype": "text/x-python",
   "name": "python",
   "nbconvert_exporter": "python",
   "pygments_lexer": "ipython3",
   "version": "3.7.6"
  }
 },
 "nbformat": 4,
 "nbformat_minor": 4
}
