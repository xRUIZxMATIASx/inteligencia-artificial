{
 "cells": [
  {
   "cell_type": "markdown",
   "metadata": {},
   "source": [
    "## Problema del viajante\n",
    "\n",
    "Resolver el problema del viajante utilizando algoritmos genéticos. \n",
    "\n",
    "- ¿Es posible aproximarse al resultado?"
   ]
  },
  {
   "cell_type": "markdown",
   "metadata": {},
   "source": [
    "## Codificación\n",
    "\n",
    "- Definir como se codificará el problema"
   ]
  },
  {
   "cell_type": "markdown",
   "metadata": {},
   "source": [
    "- San Rafael X1\n",
    "- El Nihuil X2\n",
    "- El sosneado X3\n",
    "- Villa Atuel X4\n",
    "- Jaime Prats X5\n",
    "- Las Malvinas X6\n",
    "- Salto de las Rosas X7\n",
    "- Rama caída X8\n",
    "- Monte Coman X9\n",
    "- Gral. Alvear X10\n",
    "- Rincón del Atuel X11\n",
    "\n",
    "Ciudades = 11\n",
    "N = 10"
   ]
  },
  {
   "cell_type": "code",
   "execution_count": 1,
   "metadata": {},
   "outputs": [],
   "source": [
    "import numpy as np\n",
    "import random\n",
    "import copy\n",
    "import sys\n",
    "from functools import reduce\n",
    "import matplotlib\n",
    "import matplotlib.pyplot as plt"
   ]
  },
  {
   "cell_type": "markdown",
   "metadata": {},
   "source": [
    "## Adaptación\n",
    "\n",
    "- Definir como se calculará la adaptación de un individuo\n",
    "- ¿Existen estados que deben ser penalizados?\n"
   ]
  },
  {
   "cell_type": "code",
   "execution_count": 2,
   "metadata": {},
   "outputs": [],
   "source": [
    "kms = [\n",
    "    [0, 72.7, 137, 59.1, 70.1, 36.6, 18.9, 8.7, 50.7, 84.8, 37.6],\n",
    "    [72.7, 0, 107.8, 108, 120, 135, 97.4, 84, 69.7, 122, 35],\n",
    "    [137, 108, 0, 184, 200, 162, 148, 134, 186, 214, 99.1],\n",
    "    [54.3, 120, 184, 0, 16.7, 45.2, 35.6, 54.5, 47.1, 31.4, 84.7], \n",
    "    [70.1, 136, 200, 16.9, 0, 60.8, 51.3, 70.2, 41.2, 15, 64.6], \n",
    "    [36, 97.7, 162, 45.6, 60.8, 0, 18.8, 29.7, 57.8, 75.4, 62.6], \n",
    "    [18.7, 84.2, 148, 36, 51.2, 18.8, 0, 18.9, 43, 65.8, 49.1], \n",
    "    [8.7, 69.8, 134, 54.9, 73.5, 29.6, 18.8, 0, 56.4, 84.7, 34.7], \n",
    "    [50.5, 122, 186, 47.2, 41.3, 52.8, 43, 56.3, 0, 48, 86.5], \n",
    "    [84.8, 122, 214, 31.4, 15, 75.4, 65.8, 84.7, 48, 0, 115], \n",
    "    [37.6, 35.2, 99.1, 85.1, 100, 62.5, 49.1, 34.7, 86.6, 115, 0]\n",
    "]\n",
    "\n",
    "cities = [\n",
    "    \"San Rafael\",\n",
    "    \"El Nihuil\",\n",
    "    \"El sosneado\",\n",
    "    \"Villa Atuel\",\n",
    "    \"Jaime Prats\",\n",
    "    \"Las Malvinas\",\n",
    "    \"Salto de las Rosas\",\n",
    "    \"Rama caída\",\n",
    "    \"Monte Coman\",\n",
    "    \"General Alvear\",\n",
    "    \"Rincón del Atuel\"\n",
    "]\n",
    "\n",
    "\n",
    "def get_loc(ruta):\n",
    "    localities = []\n",
    "    for indice_loc in ruta:\n",
    "        localities.append(cities[indice_loc])\n",
    "    return localities"
   ]
  },
  {
   "cell_type": "code",
   "execution_count": 3,
   "metadata": {},
   "outputs": [],
   "source": [
    "def get_distance(route):  \n",
    "    first = route[0]\n",
    "    cost = 0\n",
    "    for actual in route:\n",
    "        cost += kms[first][actual]\n",
    "        first = actual\n",
    "    return cost\n",
    "        \n",
    "def get_adaptation(population):\n",
    "    adaptation = []\n",
    "    for route in population:\n",
    "        adaptation.append(get_distance(route))\n",
    "    return adaptation"
   ]
  },
  {
   "cell_type": "markdown",
   "metadata": {},
   "source": [
    "## Selección"
   ]
  },
  {
   "cell_type": "code",
   "execution_count": 4,
   "metadata": {},
   "outputs": [],
   "source": [
    "def get_prob_adaptation(adaptations):\n",
    "    summation = sum(adaptations)\n",
    "    prob = []\n",
    "    for adaptation in adaptations:\n",
    "        prob.append(adaptation / summation)\n",
    "    return prob\n",
    "\n",
    "def select_parents(population, adaptation, len_parents):\n",
    "    prob = get_prob_adaptation(adaptation)\n",
    "    indexes = np.random.choice(range(len(population)), size=len_parents, replace=False, p=prob)\n",
    "    return np.array([population[i] for i in indexes])"
   ]
  },
  {
   "cell_type": "markdown",
   "metadata": {},
   "source": [
    "## Cruza uniforme"
   ]
  },
  {
   "cell_type": "code",
   "execution_count": 5,
   "metadata": {
    "scrolled": true
   },
   "outputs": [],
   "source": [
    "def crosses(parents, tam):\n",
    "    children = np.empty((tam, parents.shape[1]))\n",
    "    cross_point = np.uint8(parents.shape[0] / 2)\n",
    "    for k in range(tam):\n",
    "        idx_p1 = k % parents.shape[0]\n",
    "        idx_p2 = (k + 1) % parents.shape[0]\n",
    "        children[k, 0:cross_point] = parents[idx_p1, 0:cross_point]\n",
    "        children[k, cross_point:] = parents[idx_p2, cross_point:]\n",
    "    return children"
   ]
  },
  {
   "cell_type": "markdown",
   "metadata": {},
   "source": [
    "## Mutación"
   ]
  },
  {
   "cell_type": "code",
   "execution_count": 6,
   "metadata": {},
   "outputs": [],
   "source": [
    "def mutation(children):\n",
    "    for indice in range(children.shape[0]):\n",
    "        while True:\n",
    "            posicion1 = random.randint(0, len(children[indice, :]) - 1 )\n",
    "            posicion2 = random.randint(0, len(children[indice, :]) - 1 )\n",
    "            if posicion1 != posicion2:\n",
    "                break\n",
    "        children[indice, posicion1], children[indice, posicion2] = children[indice, posicion2], children[indice, posicion1]\n",
    "        \n",
    "    return children"
   ]
  },
  {
   "cell_type": "markdown",
   "metadata": {},
   "source": [
    "# Algoritmo"
   ]
  },
  {
   "cell_type": "code",
   "execution_count": 7,
   "metadata": {},
   "outputs": [
    {
     "name": "stdout",
     "output_type": "stream",
     "text": [
      "Population:  [[ 6  2  7 ...  5  3  4]\n",
      " [ 6  8  1 ...  2 10  3]\n",
      " [ 6  7 10 ...  5  4  8]\n",
      " ...\n",
      " [ 4  2  7 ...  9  6  3]\n",
      " [ 8  4  2 ... 10  7  5]\n",
      " [ 3  7  5 ...  4  9  1]]\n",
      "Best:  [ 7  3  2  9 10  8  6  4  1  5]\n",
      "['Rama caída', 'Villa Atuel', 'El sosneado', 'General Alvear', 'Rincón del Atuel', 'Monte Coman', 'Salto de las Rosas', 'Jaime Prats', 'El Nihuil', 'Las Malvinas']\n",
      "Distance:  1019.7\n"
     ]
    },
    {
     "data": {
      "image/png": "[encoded data removed]",
      "text/plain": [
       "<Figure size 432x288 with 1 Axes>"
      ]
     },
     "metadata": {
      "needs_background": "light"
     },
     "output_type": "display_data"
    }
   ],
   "source": [
    "population = []\n",
    "genes = 10\n",
    "guys = 10000\n",
    "generations = 100\n",
    "len_parents = 50\n",
    "example = list(range(1, genes + 1))\n",
    "\n",
    "for i in range(guys):\n",
    "    new = copy.copy(example)\n",
    "    random.shuffle(new)\n",
    "    population.append(new)\n",
    "eje_gen = []\n",
    "eje_adap = []\n",
    "population = np.array(population)\n",
    "print(\"Population: \", population)\n",
    "for generacion in range(generations):\n",
    "    adaptation = get_adaptation(population)\n",
    "    parents = select_parents(population, adaptation, len_parents)\n",
    "    tam = len(population) - parents.shape[0]\n",
    "    children = crosses(parents, tam)    \n",
    "    hijos_mutados = mutation(children)\n",
    "    population[0:parents.shape[0], :] = parents\n",
    "    population[parents.shape[0]:, :] = hijos_mutados\n",
    "    eje_adap.append(max(adaptation))\n",
    "    eje_gen.append(generacion)\n",
    "    \n",
    "adaptation = get_adaptation(population)\n",
    "best_adap_index = np.where(adaptation == np.max(adaptation))\n",
    "best_route = population[best_adap_index[0][0],:]\n",
    "localities = get_loc(best_route)\n",
    "print(\"Best: \", population[best_adap_index[0][0],:])\n",
    "print(localities)\n",
    "print(\"Distance: \", adaptation[best_adap_index[0][0]])\n",
    "fig, ax = plt.subplots()\n",
    "ax.plot(eje_gen, eje_adap, 'b')\n",
    "ax.set_ylabel('Distance')\n",
    "ax.set_xlabel('Generation')\n",
    "plt.show()"
   ]
  }
 ],
 "metadata": {
  "kernelspec": {
   "display_name": "Python 3",
   "language": "python",
   "name": "python3"
  },
  "language_info": {
   "codemirror_mode": {
    "name": "ipython",
    "version": 3
   },
   "file_extension": ".py",
   "mimetype": "text/x-python",
   "name": "python",
   "nbconvert_exporter": "python",
   "pygments_lexer": "ipython3",
   "version": "3.7.4"
  }
 },
 "nbformat": 4,
 "nbformat_minor": 4
}
