{
 "cells": [
  {
   "cell_type": "markdown",
   "metadata": {},
   "source": [
    "## Problema del viajante\n",
    "\n",
    "Resolver el problema del viajante utilizando algoritmos genéticos. \n",
    "\n",
    "- ¿Es posible aproximarse al resultado?"
   ]
  },
  {
   "cell_type": "markdown",
   "metadata": {},
   "source": [
    "## Codificación\n",
    "\n",
    "- Definir como se codificará el problema"
   ]
  },
  {
   "cell_type": "markdown",
   "metadata": {},
   "source": [
    "- San Rafael X1\n",
    "- El Nihuil X2\n",
    "- El sosneado X3\n",
    "- Villa Atuel X4\n",
    "- Jaime Prats X5\n",
    "- Las Malvinas X6\n",
    "- Salto de las Rosas X7\n",
    "- Rama caída X8\n",
    "- Monte Coman X9\n",
    "- Gral. Alvear X10\n",
    "- Rincón del Atuel X11\n",
    "\n",
    "Ciudades = 11\n",
    "N = 10"
   ]
  },
  {
   "cell_type": "code",
   "execution_count": 1,
   "metadata": {},
   "outputs": [],
   "source": [
    "import numpy as np\n",
    "import random\n",
    "import matplotlib\n",
    "import matplotlib.pyplot as plt"
   ]
  },
  {
   "cell_type": "markdown",
   "metadata": {},
   "source": [
    "## Adaptación\n",
    "\n",
    "- Definir como se calculará la adaptación de un individuo\n",
    "- ¿Existen estados que deben ser penalizados?\n"
   ]
  },
  {
   "cell_type": "code",
   "execution_count": 2,
   "metadata": {},
   "outputs": [],
   "source": [
    "kms = [\n",
    "    [0, 72.7, 137, 59.1, 70.1, 36.6, 18.9, 8.7, 50.7, 84.8, 37.6],\n",
    "    [72.7, 0, 107.8, 108, 120, 135, 97.4, 84, 69.7, 122, 35],\n",
    "    [137, 108, 0, 184, 200, 162, 148, 134, 186, 214, 99.1],\n",
    "    [54.3, 120, 184, 0, 16.7, 45.2, 35.6, 54.5, 47.1, 31.4, 84.7], \n",
    "    [70.1, 136, 200, 16.9, 0, 60.8, 51.3, 70.2, 41.2, 15, 64.6], \n",
    "    [36, 97.7, 162, 45.6, 60.8, 0, 18.8, 29.7, 57.8, 75.4, 62.6], \n",
    "    [18.7, 84.2, 148, 36, 51.2, 18.8, 0, 18.9, 43, 65.8, 49.1], \n",
    "    [8.7, 69.8, 134, 54.9, 73.5, 29.6, 18.8, 0, 56.4, 84.7, 34.7], \n",
    "    [50.5, 122, 186, 47.2, 41.3, 52.8, 43, 56.3, 0, 48, 86.5], \n",
    "    [84.8, 122, 214, 31.4, 15, 75.4, 65.8, 84.7, 48, 0, 115], \n",
    "    [37.6, 35.2, 99.1, 85.1, 100, 62.5, 49.1, 34.7, 86.6, 115, 0]\n",
    "]\n",
    "\n",
    "cities = [\n",
    "    \"San Rafael\",\n",
    "    \"El Nihuil\",\n",
    "    \"El sosneado\",\n",
    "    \"Villa Atuel\",\n",
    "    \"Jaime Prats\",\n",
    "    \"Las Malvinas\",\n",
    "    \"Salto de las Rosas\",\n",
    "    \"Rama caída\",\n",
    "    \"Monte Coman\",\n",
    "    \"General Alvear\",\n",
    "    \"Rincón del Atuel\"\n",
    "]\n",
    "aux = [\n",
    "    \"El Nihuil\",\n",
    "    \"El sosneado\",\n",
    "    \"Villa Atuel\",\n",
    "    \"Jaime Prats\",\n",
    "    \"Las Malvinas\",\n",
    "    \"Salto de las Rosas\",\n",
    "    \"Rama caída\",\n",
    "    \"Monte Coman\",\n",
    "    \"General Alvear\",\n",
    "    \"Rincón del Atuel\"\n",
    "]\n",
    "\n",
    "\n",
    "population = list()\n",
    "for i in range(10):\n",
    "    population.append(list(np.random.choice(aux,replace=False,size=10)))\n"
   ]
  },
  {
   "cell_type": "code",
   "execution_count": 3,
   "metadata": {},
   "outputs": [
    {
     "name": "stdout",
     "output_type": "stream",
     "text": [
      "[-785.7, -865.9, -840.8000000000001, -877.7000000000002, -792.6, -776.7000000000002, -881.0, -787.8, -941.0, -991.6]\n"
     ]
    }
   ],
   "source": [
    "def adaptation_function(population):\n",
    "    fitness = []\n",
    "    for pop in population:\n",
    "        summ = 0\n",
    "        summ += kms[0][cities.index(pop[0])] # Agregamos San Rafael a la primer ciudad\n",
    "        for v, w in zip(pop[:-1],pop[1:]):\n",
    "            summ += kms[cities.index(v)][cities.index(w)]\n",
    "        summ += kms[0][cities.index(pop[-1])] # Agregamos la ultima ciudad a San Rafael\n",
    "        fitness.append(-summ)\n",
    "        \n",
    "    return fitness\n",
    "fitness = adaptation_function(population)\n",
    "print(fitness)"
   ]
  },
  {
   "cell_type": "markdown",
   "metadata": {},
   "source": [
    "## Selección por torneo"
   ]
  },
  {
   "cell_type": "code",
   "execution_count": 4,
   "metadata": {},
   "outputs": [
    {
     "name": "stdout",
     "output_type": "stream",
     "text": [
      "[['General Alvear', 'Jaime Prats', 'Salto de las Rosas', 'El sosneado', 'Rama caída', 'El Nihuil', 'Rincón del Atuel', 'Villa Atuel', 'Las Malvinas', 'Monte Coman'], ['Rama caída', 'Jaime Prats', 'General Alvear', 'Las Malvinas', 'Salto de las Rosas', 'El sosneado', 'Monte Coman', 'El Nihuil', 'Villa Atuel', 'Rincón del Atuel'], ['Salto de las Rosas', 'Rincón del Atuel', 'El sosneado', 'Jaime Prats', 'Las Malvinas', 'El Nihuil', 'General Alvear', 'Monte Coman', 'Rama caída', 'Villa Atuel'], ['Salto de las Rosas', 'Villa Atuel', 'El sosneado', 'El Nihuil', 'Monte Coman', 'Jaime Prats', 'Las Malvinas', 'Rama caída', 'General Alvear', 'Rincón del Atuel'], ['Salto de las Rosas', 'Rincón del Atuel', 'El sosneado', 'Jaime Prats', 'Las Malvinas', 'El Nihuil', 'General Alvear', 'Monte Coman', 'Rama caída', 'Villa Atuel']]\n"
     ]
    }
   ],
   "source": [
    "def tournament(fitness, population):\n",
    "    parents = list()\n",
    "    fitness_copy = fitness\n",
    "    \n",
    "    while len(fitness) > 0:\n",
    "        selection1 = random.choice(fitness)\n",
    "        selection2 = random.choice(fitness)\n",
    "        \n",
    "        if selection1 == selection2:\n",
    "            continue\n",
    "            \n",
    "        if selection1 > selection2:\n",
    "            parents.append(population[fitness_copy.index(selection1)])\n",
    "        else:\n",
    "            parents.append(population[fitness_copy.index(selection2)])\n",
    "        \n",
    "        fitness.remove(selection1)\n",
    "        fitness.remove(selection2)\n",
    "    \n",
    "    return parents\n",
    "\n",
    "parents = tournament(fitness, population)\n",
    "\n",
    "print(parents)"
   ]
  },
  {
   "cell_type": "markdown",
   "metadata": {},
   "source": [
    "## Cruza uniforme"
   ]
  },
  {
   "cell_type": "code",
   "execution_count": 5,
   "metadata": {
    "scrolled": true
   },
   "outputs": [
    {
     "name": "stdout",
     "output_type": "stream",
     "text": [
      "selection1 10\n",
      "selection2 ['Rama caída', 'Jaime Prats', 'General Alvear', 'Las Malvinas', 'Salto de las Rosas', 'El sosneado', 'Monte Coman', 'El Nihuil', 'Villa Atuel', 'Rincón del Atuel']\n",
      "child ['El Nihuil', 'Rincón del Atuel', 'Salto de las Rosas', 'General Alvear', 'Rama caída', 'Las Malvinas', 'Jaime Prats', 'Monte Coman', 'El sosneado', 'Villa Atuel']\n",
      "1 2\n",
      "3 4\n",
      "5 6\n",
      "7 8\n",
      "9 10\n"
     ]
    }
   ],
   "source": [
    "def crosses(parents):\n",
    "    \n",
    "    #while len(parents) > 0:\n",
    "    selection1 = random.choice(parents)\n",
    "    selection2 = random.choice(parents)\n",
    "    \n",
    "    print(\"selection1\", len(selection1))\n",
    "    print(\"selection2\", selection2)\n",
    "    \n",
    "    selection1.extend(selection2)\n",
    "    \n",
    "    print(\"child\", list(set(selection1)))\n",
    "    #child = np.random.choice(selection1)\n",
    "    \n",
    "    seq = [1,2,3,4,5,6,7,8,9,10]\n",
    "    it = iter(seq)\n",
    "    for x in it:\n",
    "        print (x, next(it))\n",
    "        \n",
    "crosses(parents)"
   ]
  },
  {
   "cell_type": "markdown",
   "metadata": {},
   "source": [
    "## Mutación"
   ]
  },
  {
   "cell_type": "code",
   "execution_count": null,
   "metadata": {},
   "outputs": [],
   "source": []
  },
  {
   "cell_type": "markdown",
   "metadata": {},
   "source": [
    "# Algoritmo"
   ]
  },
  {
   "cell_type": "code",
   "execution_count": null,
   "metadata": {},
   "outputs": [],
   "source": []
  }
 ],
 "metadata": {
  "kernelspec": {
   "display_name": "Python 3",
   "language": "python",
   "name": "python3"
  },
  "language_info": {
   "codemirror_mode": {
    "name": "ipython",
    "version": 3
   },
   "file_extension": ".py",
   "mimetype": "text/x-python",
   "name": "python",
   "nbconvert_exporter": "python",
   "pygments_lexer": "ipython3",
   "version": "3.7.4"
  }
 },
 "nbformat": 4,
 "nbformat_minor": 4
}
