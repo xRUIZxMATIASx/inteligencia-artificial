{
 "cells": [
  {
   "cell_type": "markdown",
   "metadata": {},
   "source": [
    "# Ejercicios de clasificación\n",
    "\n",
    "Resolver los ejercicios 1, 3 y 4 de aprendizaje bayesiano utilizando árboles de decisión.\n",
    "\n",
    "Para cada caso responder:\n",
    "\n",
    "- ¿Se logró una exactitud mayor que con aprendizaje bayesiano?\n",
    "- ¿Cuál es la profundidad óptima del árbol?\n",
    "- ¿Cuanta diferencia en la exactitud del resultado existe con los métodos de ganancia y gini?"
   ]
  }
 ],
 "metadata": {
  "kernelspec": {
   "display_name": "Python 3",
   "language": "python",
   "name": "python3"
  },
  "language_info": {
   "codemirror_mode": {
    "name": "ipython",
    "version": 3
   },
   "file_extension": ".py",
   "mimetype": "text/x-python",
   "name": "python",
   "nbconvert_exporter": "python",
   "pygments_lexer": "ipython3",
   "version": "3.7.4"
  }
 },
 "nbformat": 4,
 "nbformat_minor": 4
}
